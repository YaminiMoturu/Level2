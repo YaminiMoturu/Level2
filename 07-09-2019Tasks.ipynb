{
 "cells": [
  {
   "cell_type": "markdown",
   "metadata": {},
   "source": [
    "### Question-1: Write a Python Program to print the sum of digits in a given string(using input statement)"
   ]
  },
  {
   "cell_type": "code",
   "execution_count": 23,
   "metadata": {},
   "outputs": [
    {
     "name": "stdout",
     "output_type": "stream",
     "text": [
      "17815A0502\n",
      "29\n"
     ]
    }
   ],
   "source": [
    "rollno=input()\n",
    "i=sumn=0\n",
    "while i<(len(rollno)):\n",
    "    if(rollno[i].isdigit()):\n",
    "        sumn+=int(rollno[i]) \n",
    "    i+=1\n",
    "print(sumn)"
   ]
  },
  {
   "cell_type": "markdown",
   "metadata": {},
   "source": [
    "### Question -2: Write a python program to find the weight of given string (character a weight is 1 and b is 2 and z is 26 like that)"
   ]
  },
  {
   "cell_type": "code",
   "execution_count": 24,
   "metadata": {},
   "outputs": [
    {
     "name": "stdout",
     "output_type": "stream",
     "text": [
      "aba\n",
      "4\n"
     ]
    }
   ],
   "source": [
    "data=input()\n",
    "s=0\n",
    "for char in data:\n",
    "    s+=ord(char)-96\n",
    "print(s)"
   ]
  }
 ],
 "metadata": {
  "kernelspec": {
   "display_name": "Python 3",
   "language": "python",
   "name": "python3"
  },
  "language_info": {
   "codemirror_mode": {
    "name": "ipython",
    "version": 3
   },
   "file_extension": ".py",
   "mimetype": "text/x-python",
   "name": "python",
   "nbconvert_exporter": "python",
   "pygments_lexer": "ipython3",
   "version": "3.7.3"
  }
 },
 "nbformat": 4,
 "nbformat_minor": 2
}
