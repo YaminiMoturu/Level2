{
 "cells": [
  {
   "cell_type": "markdown",
   "metadata": {},
   "source": [
    "#### Question-1:Maximum length: Print the words which length has maximum if multiple names has max length print that names in same line."
   ]
  },
  {
   "cell_type": "code",
   "execution_count": 13,
   "metadata": {},
   "outputs": [
    {
     "name": "stdout",
     "output_type": "stream",
     "text": [
      "mahesh yamini sussu\n",
      "['mahesh', 'yamini']\n"
     ]
    }
   ],
   "source": [
    "names=input()\n",
    "names_list=names.split(\" \")\n",
    "l=[]\n",
    "n=[]\n",
    "for names in names_list:\n",
    "    l.append(len(names))\n",
    "    a=max(l)\n",
    "    if len(names)==a:\n",
    "        n.append(names)\n",
    "print(n)"
   ]
  },
  {
   "cell_type": "markdown",
   "metadata": {},
   "source": [
    "#### Question-2: Palindrome: Need to find and print whether this string is a palindrome or not. If yes, print \"YES\" else print \"NO\"."
   ]
  },
  {
   "cell_type": "code",
   "execution_count": 2,
   "metadata": {},
   "outputs": [
    {
     "name": "stdout",
     "output_type": "stream",
     "text": [
      "LoL\n",
      "YES\n"
     ]
    }
   ],
   "source": [
    "names=input()\n",
    "r=names[::-1]\n",
    "if r==names:\n",
    "     print (\"YES\")\n",
    "else:\n",
    "    print(\"NO\")"
   ]
  },
  {
   "cell_type": "markdown",
   "metadata": {},
   "source": [
    "#### Question-3: Toggle String: You have been given a String S consisting of uppercase and lowercase English alphabets. You need to change the case of each alphabet in this String."
   ]
  },
  {
   "cell_type": "code",
   "execution_count": 3,
   "metadata": {},
   "outputs": [
    {
     "name": "stdout",
     "output_type": "stream",
     "text": [
      "hElLo\n"
     ]
    },
    {
     "data": {
      "text/plain": [
       "'HeLlO'"
      ]
     },
     "execution_count": 3,
     "metadata": {},
     "output_type": "execute_result"
    }
   ],
   "source": [
    "name=input()\n",
    "name.swapcase()"
   ]
  }
 ],
 "metadata": {
  "kernelspec": {
   "display_name": "Python 3",
   "language": "python",
   "name": "python3"
  },
  "language_info": {
   "codemirror_mode": {
    "name": "ipython",
    "version": 3
   },
   "file_extension": ".py",
   "mimetype": "text/x-python",
   "name": "python",
   "nbconvert_exporter": "python",
   "pygments_lexer": "ipython3",
   "version": "3.7.3"
  }
 },
 "nbformat": 4,
 "nbformat_minor": 2
}
