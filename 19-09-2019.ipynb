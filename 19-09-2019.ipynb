{
 "cells": [
  {
   "cell_type": "markdown",
   "metadata": {},
   "source": [
    "### Data encryption and Decryption\n",
    "* Data Encryption :\n",
    "   - Encyption is a security method in which information is encoded in such a way that only authorized user can read it.It uses encryption algorithm to generate ciphertext that can be read if decyption.\n",
    "* Data Decyption :\n",
    "   - Decyption is the process of taking encoded or encypted text and coverting it back into text that you or the computer can read and understand\n",
    "* Types :\n",
    "   - Symmetric(private key): It uses a single key that will be shared among the people who need to recive the message\n",
    "* Asymmetric(Public key) :\n",
    "   - Asymmetrical encryption uses a pair of public key and a private key to encrypt and decrypt message\n",
    "* Write a function to generate key for encryption"
   ]
  },
  {
   "cell_type": "code",
   "execution_count": 1,
   "metadata": {},
   "outputs": [],
   "source": [
    "#Function to generate key for encryption.\n",
    "keypath='DataFiles/key.txt'\n",
    "def genkey(keypath):\n",
    "    with open(keypath,'w') as f:\n",
    "        for i in range(10):\n",
    "            if i<6:\n",
    "                f.write(str(i)+' '+str(i+4)+'\\n')\n",
    "            else:\n",
    "                f.write(str(i)+' '+str(i-6)+'\\n')\n",
    "    return\n",
    "genkey(keypath)"
   ]
  },
  {
   "cell_type": "code",
   "execution_count": 15,
   "metadata": {},
   "outputs": [],
   "source": [
    "#Function to decrypt a datafiles\n",
    "keyfile='DataFiles/key.txt'\n",
    "def dickeyfile(keyfile):\n",
    "    key={}\n",
    "    with open(keyfile,'r') as f:\n",
    "        for line in f:\n",
    "            line=line.split()\n",
    "            key[line[0]]=line[1]\n",
    "        return key\n",
    "def encryMarksData(datafile,keyfile):\n",
    "    #construct a dictionary for key data\n",
    "    key=dickeyfile(keyfile)\n",
    "    with open(datafile,'r') as f:\n",
    "        filedata=f.read().split('\\n')\n",
    "    with open('DataFiles/encryMarks.txt','w') as f:\n",
    "        for mark in filedata:\n",
    "            line=''\n",
    "            for n in mark:\n",
    "                line+=key[n]\n",
    "            f.write(line+'\\n')\n",
    "    return\n",
    "datafile='DataFiles/marks.txt'\n",
    "encryMarksData(datafile,keyfile)"
   ]
  },
  {
   "cell_type": "code",
   "execution_count": 28,
   "metadata": {},
   "outputs": [
    {
     "name": "stdout",
     "output_type": "stream",
     "text": [
      "0.0015665839996472641\n"
     ]
    }
   ],
   "source": [
    "#Function to decrypt the encrypted file\n",
    "def decrypMarksData(encryptedfile,keyfile):\n",
    "    key=dickeyfile(keyfile)\n",
    "    newkey={}\n",
    "    for key,value in key.items():\n",
    "        newkey[value]=key\n",
    "    with open(encryptedfile,'r') as f:\n",
    "        encrypteddata=f.read().split('\\n')\n",
    "    with open('DataFiles/decryptedMarks.txt','w') as f:\n",
    "        for encyptedmark in encrypteddata:\n",
    "            line=''\n",
    "            for n in encyptedmark:\n",
    "                line+=newkey[n]\n",
    "                f.write(line+'\\n')\n",
    "    return\n",
    "encryptedfile='DataFiles/encryptedMarks.txt'\n",
    "import timeit\n",
    "st=timeit.default_timer()\n",
    "decrypMarksData(encryptedfile,keyfile)\n",
    "print(timeit.default_timer()-st)"
   ]
  },
  {
   "cell_type": "code",
   "execution_count": null,
   "metadata": {},
   "outputs": [],
   "source": []
  }
 ],
 "metadata": {
  "kernelspec": {
   "display_name": "Python 3",
   "language": "python",
   "name": "python3"
  },
  "language_info": {
   "codemirror_mode": {
    "name": "ipython",
    "version": 3
   },
   "file_extension": ".py",
   "mimetype": "text/x-python",
   "name": "python",
   "nbconvert_exporter": "python",
   "pygments_lexer": "ipython3",
   "version": "3.7.3"
  }
 },
 "nbformat": 4,
 "nbformat_minor": 2
}
